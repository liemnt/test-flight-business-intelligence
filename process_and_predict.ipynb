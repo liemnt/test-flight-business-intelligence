{
 "cells": [
  {
   "cell_type": "code",
   "execution_count": 1,
   "id": "00d12705",
   "metadata": {},
   "outputs": [],
   "source": [
    "# Python library imports: numpy, random, sklearn, pandas, etc\n",
    "\n",
    "import warnings\n",
    "warnings.filterwarnings('ignore')\n",
    "\n",
    "import sys\n",
    "import random\n",
    "import numpy as np\n",
    "\n",
    "# cross_validation is deprecated since version 0.18. This module will be removed in 0.20.\n",
    "# Use sklearn.model_selection.train_test_split instead.\n",
    "# from sklearn import linear_model, cross_validation, metrics, svm\n",
    "from sklearn.model_selection import train_test_split\n",
    "from sklearn import linear_model, metrics, svm\n",
    "from sklearn.metrics import confusion_matrix, precision_recall_fscore_support, accuracy_score\n",
    "from sklearn.ensemble import RandomForestClassifier\n",
    "from sklearn.preprocessing import StandardScaler\n",
    "\n",
    "import pandas as pd\n",
    "import matplotlib.pyplot as plt\n",
    "%matplotlib inline"
   ]
  },
  {
   "cell_type": "code",
   "execution_count": 45,
   "id": "12e752ca",
   "metadata": {},
   "outputs": [],
   "source": [
    "# function to read HDFS file into dataframe using PyDoop\n",
    "import pydoop.hdfs as hdfs\n",
    "def read_csv_from_hdfs(path, cols, col_types=None):\n",
    "    files = hdfs.ls(path);\n",
    "    pieces = []\n",
    "    for f in files:\n",
    "        fhandle = hdfs.open(f)\n",
    "        pieces.append(pd.read_csv(fhandle, names=cols, dtype=col_types, skiprows=1))\n",
    "        fhandle.close()\n",
    "    return pd.concat(pieces, ignore_index=True)"
   ]
  },
  {
   "cell_type": "markdown",
   "id": "82ac2be7",
   "metadata": {},
   "source": [
    "## Perform analysis flight data"
   ]
  },
  {
   "cell_type": "code",
   "execution_count": 56,
   "id": "9727b0f6",
   "metadata": {},
   "outputs": [
    {
     "data": {
      "text/plain": [
       "(5034804, 29)"
      ]
     },
     "execution_count": 56,
     "metadata": {},
     "output_type": "execute_result"
    }
   ],
   "source": [
    "# Load data and get the shape of the dataframe\n",
    "# cols = ['year', 'month', 'day', 'dow', 'DepTime', 'CRSDepTime', 'ArrTime', 'CRSArrTime', 'Carrier', 'FlightNum', \n",
    "#         'TailNum', 'ActualElapsedTime', 'CRSElapsedTime', 'AirTime', 'ArrDelay', 'DepDelay', 'Origin', 'Dest', \n",
    "#         'Distance', 'TaxiIn', 'TaxiOut', 'Cancelled', 'CancellationCode', 'Diverted', 'CarrierDelay', \n",
    "#         'WeatherDelay', 'NASDelay', 'SecurityDelay', 'LateAircraftDelay'];\n",
    "columns = ['year', 'month', 'day_of_month', 'day_of_week', 'dep_time', 'crs_dep_time', 'arr_time', 'crs_arr_time', 'unique_carrier', 'flight_num', 'tail_num',\n",
    "           'actual_elapsed_time', 'crs_elapsed_time', 'air_time', 'arr_delay', 'dep_delay', 'origin', 'dest', 'distance', 'taxi_in', 'taxi_out','cancelled',\n",
    "           'cancellation_code', 'diverted', 'carrier_delay', 'weather_delay', 'nas_delay', 'security_delay', 'late_aircraft_delay']\n",
    "\n",
    "PROCESSING_FILE_NAME = '1996.csv'\n",
    "processing_file_name = f\"./result/{PROCESSING_FILE_NAME}\"\n",
    "flight_df = read_csv_from_hdfs(processing_file_name, cols)\n",
    "\n",
    "flight_df.shape"
   ]
  },
  {
   "cell_type": "code",
   "execution_count": 47,
   "id": "cf243b9d",
   "metadata": {},
   "outputs": [
    {
     "data": {
      "text/html": [
       "<div>\n",
       "<style scoped>\n",
       "    .dataframe tbody tr th:only-of-type {\n",
       "        vertical-align: middle;\n",
       "    }\n",
       "\n",
       "    .dataframe tbody tr th {\n",
       "        vertical-align: top;\n",
       "    }\n",
       "\n",
       "    .dataframe thead th {\n",
       "        text-align: right;\n",
       "    }\n",
       "</style>\n",
       "<table border=\"1\" class=\"dataframe\">\n",
       "  <thead>\n",
       "    <tr style=\"text-align: right;\">\n",
       "      <th></th>\n",
       "      <th>year</th>\n",
       "      <th>month</th>\n",
       "      <th>day</th>\n",
       "      <th>dow</th>\n",
       "      <th>DepTime</th>\n",
       "      <th>CRSDepTime</th>\n",
       "      <th>ArrTime</th>\n",
       "      <th>CRSArrTime</th>\n",
       "      <th>Carrier</th>\n",
       "      <th>FlightNum</th>\n",
       "      <th>...</th>\n",
       "      <th>TaxiIn</th>\n",
       "      <th>TaxiOut</th>\n",
       "      <th>Cancelled</th>\n",
       "      <th>CancellationCode</th>\n",
       "      <th>Diverted</th>\n",
       "      <th>CarrierDelay</th>\n",
       "      <th>WeatherDelay</th>\n",
       "      <th>NASDelay</th>\n",
       "      <th>SecurityDelay</th>\n",
       "      <th>LateAircraftDelay</th>\n",
       "    </tr>\n",
       "  </thead>\n",
       "  <tbody>\n",
       "    <tr>\n",
       "      <th>0</th>\n",
       "      <td>1996</td>\n",
       "      <td>1</td>\n",
       "      <td>29</td>\n",
       "      <td>1</td>\n",
       "      <td>1996-01-29 20:39:00</td>\n",
       "      <td>1996-01-29 19:30:00</td>\n",
       "      <td>1996-01-29 22:45:00</td>\n",
       "      <td>1996-01-29 21:39:00</td>\n",
       "      <td>DL</td>\n",
       "      <td>345</td>\n",
       "      <td>...</td>\n",
       "      <td>6</td>\n",
       "      <td>10</td>\n",
       "      <td>0</td>\n",
       "      <td>0</td>\n",
       "      <td>NaN</td>\n",
       "      <td>NaN</td>\n",
       "      <td>NaN</td>\n",
       "      <td>NaN</td>\n",
       "      <td>NaN</td>\n",
       "      <td>NaN</td>\n",
       "    </tr>\n",
       "    <tr>\n",
       "      <th>1</th>\n",
       "      <td>1996</td>\n",
       "      <td>1</td>\n",
       "      <td>30</td>\n",
       "      <td>2</td>\n",
       "      <td>1996-01-30 19:31:00</td>\n",
       "      <td>1996-01-30 19:30:00</td>\n",
       "      <td>1996-01-30 21:42:00</td>\n",
       "      <td>1996-01-30 21:39:00</td>\n",
       "      <td>DL</td>\n",
       "      <td>345</td>\n",
       "      <td>...</td>\n",
       "      <td>5</td>\n",
       "      <td>22</td>\n",
       "      <td>0</td>\n",
       "      <td>0</td>\n",
       "      <td>NaN</td>\n",
       "      <td>NaN</td>\n",
       "      <td>NaN</td>\n",
       "      <td>NaN</td>\n",
       "      <td>NaN</td>\n",
       "      <td>NaN</td>\n",
       "    </tr>\n",
       "    <tr>\n",
       "      <th>2</th>\n",
       "      <td>1996</td>\n",
       "      <td>1</td>\n",
       "      <td>31</td>\n",
       "      <td>3</td>\n",
       "      <td>1996-01-31 19:56:00</td>\n",
       "      <td>1996-01-31 19:30:00</td>\n",
       "      <td>1996-01-31 22:31:00</td>\n",
       "      <td>1996-01-31 21:39:00</td>\n",
       "      <td>DL</td>\n",
       "      <td>345</td>\n",
       "      <td>...</td>\n",
       "      <td>7</td>\n",
       "      <td>27</td>\n",
       "      <td>0</td>\n",
       "      <td>0</td>\n",
       "      <td>NaN</td>\n",
       "      <td>NaN</td>\n",
       "      <td>NaN</td>\n",
       "      <td>NaN</td>\n",
       "      <td>NaN</td>\n",
       "      <td>NaN</td>\n",
       "    </tr>\n",
       "    <tr>\n",
       "      <th>3</th>\n",
       "      <td>1996</td>\n",
       "      <td>1</td>\n",
       "      <td>1</td>\n",
       "      <td>1</td>\n",
       "      <td>1996-01-01 17:30:00</td>\n",
       "      <td>1996-01-01 15:50:00</td>\n",
       "      <td>1996-01-01 19:09:00</td>\n",
       "      <td>1996-01-01 17:45:00</td>\n",
       "      <td>DL</td>\n",
       "      <td>411</td>\n",
       "      <td>...</td>\n",
       "      <td>4</td>\n",
       "      <td>14</td>\n",
       "      <td>0</td>\n",
       "      <td>0</td>\n",
       "      <td>NaN</td>\n",
       "      <td>NaN</td>\n",
       "      <td>NaN</td>\n",
       "      <td>NaN</td>\n",
       "      <td>NaN</td>\n",
       "      <td>NaN</td>\n",
       "    </tr>\n",
       "    <tr>\n",
       "      <th>4</th>\n",
       "      <td>1996</td>\n",
       "      <td>1</td>\n",
       "      <td>2</td>\n",
       "      <td>2</td>\n",
       "      <td>1996-01-02 17:14:00</td>\n",
       "      <td>1996-01-02 15:50:00</td>\n",
       "      <td>1996-01-02 18:41:00</td>\n",
       "      <td>1996-01-02 17:45:00</td>\n",
       "      <td>DL</td>\n",
       "      <td>411</td>\n",
       "      <td>...</td>\n",
       "      <td>4</td>\n",
       "      <td>8</td>\n",
       "      <td>0</td>\n",
       "      <td>0</td>\n",
       "      <td>NaN</td>\n",
       "      <td>NaN</td>\n",
       "      <td>NaN</td>\n",
       "      <td>NaN</td>\n",
       "      <td>NaN</td>\n",
       "      <td>NaN</td>\n",
       "    </tr>\n",
       "  </tbody>\n",
       "</table>\n",
       "<p>5 rows × 29 columns</p>\n",
       "</div>"
      ],
      "text/plain": [
       "   year  month  day  dow              DepTime           CRSDepTime  \\\n",
       "0  1996      1   29    1  1996-01-29 20:39:00  1996-01-29 19:30:00   \n",
       "1  1996      1   30    2  1996-01-30 19:31:00  1996-01-30 19:30:00   \n",
       "2  1996      1   31    3  1996-01-31 19:56:00  1996-01-31 19:30:00   \n",
       "3  1996      1    1    1  1996-01-01 17:30:00  1996-01-01 15:50:00   \n",
       "4  1996      1    2    2  1996-01-02 17:14:00  1996-01-02 15:50:00   \n",
       "\n",
       "               ArrTime           CRSArrTime Carrier  FlightNum  ... TaxiIn  \\\n",
       "0  1996-01-29 22:45:00  1996-01-29 21:39:00      DL        345  ...      6   \n",
       "1  1996-01-30 21:42:00  1996-01-30 21:39:00      DL        345  ...      5   \n",
       "2  1996-01-31 22:31:00  1996-01-31 21:39:00      DL        345  ...      7   \n",
       "3  1996-01-01 19:09:00  1996-01-01 17:45:00      DL        411  ...      4   \n",
       "4  1996-01-02 18:41:00  1996-01-02 17:45:00      DL        411  ...      4   \n",
       "\n",
       "   TaxiOut  Cancelled  CancellationCode  Diverted  CarrierDelay WeatherDelay  \\\n",
       "0       10          0                 0       NaN           NaN          NaN   \n",
       "1       22          0                 0       NaN           NaN          NaN   \n",
       "2       27          0                 0       NaN           NaN          NaN   \n",
       "3       14          0                 0       NaN           NaN          NaN   \n",
       "4        8          0                 0       NaN           NaN          NaN   \n",
       "\n",
       "  NASDelay  SecurityDelay  LateAircraftDelay  \n",
       "0      NaN            NaN                NaN  \n",
       "1      NaN            NaN                NaN  \n",
       "2      NaN            NaN                NaN  \n",
       "3      NaN            NaN                NaN  \n",
       "4      NaN            NaN                NaN  \n",
       "\n",
       "[5 rows x 29 columns]"
      ]
     },
     "execution_count": 47,
     "metadata": {},
     "output_type": "execute_result"
    }
   ],
   "source": [
    "flight_df.head()"
   ]
  },
  {
   "cell_type": "markdown",
   "id": "2fc73fa1",
   "metadata": {},
   "source": [
    "## Let see some flight statistics\n",
    "Let's look at some basic statistics, after limiting ourselves to flights originating from ORD"
   ]
  },
  {
   "cell_type": "code",
   "execution_count": 57,
   "id": "0e400481",
   "metadata": {},
   "outputs": [
    {
     "data": {
      "text/plain": [
       "0           69\n",
       "1            1\n",
       "2           26\n",
       "3          100\n",
       "4           84\n",
       "          ... \n",
       "5034799      1\n",
       "5034800      9\n",
       "5034801     -1\n",
       "5034802     59\n",
       "5034803     82\n",
       "Name: DepDelay, Length: 5034804, dtype: int64"
      ]
     },
     "execution_count": 57,
     "metadata": {},
     "output_type": "execute_result"
    }
   ],
   "source": [
    "# Convert dataframe to correct type\n",
    "flight_df.columns\n",
    "\n",
    "def convert_df_types(dataframe):\n",
    "    dataframe['cancelled'] = dataframe['Cancelled'].astype(bool)\n",
    "    dataframe['Diverted'] = dataframe['Diverted'].astype(bool)\n",
    "    dataframe['DepDelay'] = dataframe['DepDelay'].astype(int)\n",
    "#     dataframe[\"DepDelay\"] = pd.to_numeric(dataframe[\"DepDelay\"], downcast='float')\n",
    "    \n",
    "convert_df_types(flight_df)\n",
    "# flight_df.head()\n",
    "flight_df['DepDelay']"
   ]
  },
  {
   "cell_type": "code",
   "execution_count": 58,
   "id": "5870a8dc",
   "metadata": {},
   "outputs": [
    {
     "name": "stdout",
     "output_type": "stream",
     "text": [
      "total flights: 264436\n",
      "total delays: 57183\n"
     ]
    }
   ],
   "source": [
    "# \n",
    "df = flight_df[flight_df['Origin']=='ORD'].dropna(subset=['DepDelay'])\n",
    "df['DepDelayed'] = df['DepDelay'].apply(lambda x: x>=15)\n",
    "print(\"total flights: \" + str(df.shape[0]))\n",
    "print(\"total delays: \" + str(df['DepDelayed'].sum()))"
   ]
  },
  {
   "cell_type": "markdown",
   "id": "68435a67",
   "metadata": {},
   "source": [
    "#### how delayed flights are distributed by month"
   ]
  },
  {
   "cell_type": "code",
   "execution_count": 52,
   "id": "9dd6e83c",
   "metadata": {},
   "outputs": [
    {
     "data": {
      "text/plain": [
       "<Axes: xlabel='month'>"
      ]
     },
     "execution_count": 52,
     "metadata": {},
     "output_type": "execute_result"
    },
    {
     "data": {
      "image/png": "[encoded data removed]",
      "text/plain": [
       "<Figure size 640x480 with 1 Axes>"
      ]
     },
     "metadata": {},
     "output_type": "display_data"
    }
   ],
   "source": [
    "# Select a Pandas dataframe with flight originating from ORD\n",
    "\n",
    "# Compute average number of delayed flights per month\n",
    "grouped = df[['DepDelayed', 'month']].groupby('month').mean()\n",
    "\n",
    "# plot average delays by month\n",
    "grouped.plot(kind='bar')"
   ]
  },
  {
   "cell_type": "markdown",
   "id": "f1de3b99",
   "metadata": {},
   "source": [
    "We see that the average number of delays is highest in December and February, which is what we would expect"
   ]
  },
  {
   "cell_type": "markdown",
   "id": "a32a5705",
   "metadata": {},
   "source": [
    "#### Delay by the hour-of-day"
   ]
  },
  {
   "cell_type": "code",
   "execution_count": 62,
   "id": "7a5827ea",
   "metadata": {},
   "outputs": [
    {
     "data": {
      "text/plain": [
       "<Axes: xlabel='hour'>"
      ]
     },
     "execution_count": 62,
     "metadata": {},
     "output_type": "execute_result"
    },
    {
     "data": {
      "image/png": "[encoded data removed]",
      "text/plain": [
       "<Figure size 640x480 with 1 Axes>"
      ]
     },
     "metadata": {},
     "output_type": "display_data"
    }
   ],
   "source": [
    "from datetime import datetime\n",
    "\n",
    "# Compute average number of delayed flights by hour\n",
    "def convert_str_to_hour(datetime_str):\n",
    "    date_obj = datetime.strptime(datetime_str, '%Y-%m-%d %H:%M:%S')\n",
    "    \n",
    "    return date_obj.hour\n",
    "\n",
    "df['hour'] = df['CRSDepTime'].map(convert_str_to_hour)\n",
    "grouped = df[['DepDelayed', 'hour']].groupby('hour').mean()\n",
    "\n",
    "# plot average delays by hour of day\n",
    "grouped.plot(kind='bar')\n",
    "# df['hour']"
   ]
  },
  {
   "cell_type": "markdown",
   "id": "b36be4ec",
   "metadata": {},
   "source": [
    "A clear pattern here - flights tend to be delayed later in the day. Perhaps this is because delays tend to pile up as the day progresses and the problem tends to compound later in the day."
   ]
  },
  {
   "cell_type": "markdown",
   "id": "d1690ff7",
   "metadata": {},
   "source": [
    "#### Delay by carrier"
   ]
  },
  {
   "cell_type": "code",
   "execution_count": 64,
   "id": "e983c7f7",
   "metadata": {},
   "outputs": [
    {
     "data": {
      "text/plain": [
       "<Axes: xlabel='Carrier'>"
      ]
     },
     "execution_count": 64,
     "metadata": {},
     "output_type": "execute_result"
    },
    {
     "data": {
      "image/png": "[encoded data removed]",
      "text/plain": [
       "<Figure size 640x480 with 1 Axes>"
      ]
     },
     "metadata": {},
     "output_type": "display_data"
    }
   ],
   "source": [
    "# Compute average number of delayed flights per carrier\n",
    "grouped1 = df[['DepDelayed', 'Carrier']].groupby('Carrier').filter(lambda x: len(x)>10)\n",
    "grouped2 = grouped1.groupby('Carrier').mean()\n",
    "carrier = grouped2.sort_values(['DepDelayed'], ascending=False)\n",
    "\n",
    "# display top 15 destination carriers by delay (from ORD)\n",
    "carrier[:15].plot(kind='bar')"
   ]
  },
  {
   "cell_type": "markdown",
   "id": "bfbd518c",
   "metadata": {},
   "source": [
    "some airlines are better than others."
   ]
  },
  {
   "cell_type": "markdown",
   "id": "be53f208",
   "metadata": {},
   "source": [
    "## Pre-processing: using Hadoop to build a feature matrix"
   ]
  },
  {
   "cell_type": "code",
   "execution_count": 1,
   "id": "7c463b10",
   "metadata": {},
   "outputs": [
    {
     "ename": "SyntaxError",
     "evalue": "invalid syntax (1403648862.py, line 4)",
     "output_type": "error",
     "traceback": [
      "\u001b[0;36m  Cell \u001b[0;32mIn[1], line 4\u001b[0;36m\u001b[0m\n\u001b[0;31m    Register 'util.py' USING jython as util;\u001b[0m\n\u001b[0m             ^\u001b[0m\n\u001b[0;31mSyntaxError\u001b[0m\u001b[0;31m:\u001b[0m invalid syntax\n"
     ]
    }
   ],
   "source": [
    "# Execute the script directly from IPython (the Python UDFs are separately stored in \"util.py\")\n",
    "%%writefile preprocess1.pig\n",
    "\n",
    "Register 'util.py' USING jython as util;\n",
    "DEFINE preprocess(year_str, airport_code) returns data\n",
    "{\n",
    "        -- load airline data from specified year (need to specify fields since it's not in HCat)\n",
    "        airline = load './result/$year_str.csv' using PigStorage(',') \n",
    "            as (Year: int, Month: int, DayOfMonth: int, DayOfWeek: int, DepTime: chararray, \n",
    "                CRSDepTime: chararray, ArrTime, CRSArrTime, Carrier: chararray, FlightNum, TailNum, ActualElapsedTime, \n",
    "                CRSElapsedTime, AirTime, ArrDelay, DepDelay: int, Origin: chararray, Dest: chararray, Distance: int, \n",
    "                TaxiIn, TaxiOut, Cancelled: int, CancellationCode, Diverted, CarrierDelay, WeatherDelay, \n",
    "                NASDelay, SecurityDelay, LateAircraftDelay);\n",
    "\n",
    "        -- keep only instances where flight was not cancelled and originate at ORD\n",
    "        airline_flt = filter airline by Cancelled == 0 and Origin == '$airport_code';\n",
    "\n",
    "        -- Keep only fields I need\n",
    "        $data = foreach airline_flt generate DepDelay as delay, Month, DayOfMonth, DayOfWeek, \n",
    "                                             util.get_hour(CRSDepTime) as hour, Distance, Carrier, Dest,\n",
    "                                             util.days_from_nearest_holiday(Year, Month, DayOfMonth) as hdays;\n",
    "};\n",
    "\n",
    "ORD_1996 = preprocess('1996', 'ORD');\n",
    "rmf ./fm/ord_1996_1\n",
    "store ORD_1996 into './fm/ord_1996_1' using PigStorage(',');\n",
    "\n",
    "# ORD_2008 = preprocess('2008', 'ORD');\n",
    "# rmf airline/fm/ord_2008_1\n",
    "# store ORD_2008 into 'airline/fm/ord_2008_1' using PigStorage(',');"
   ]
  },
  {
   "cell_type": "code",
   "execution_count": null,
   "id": "dea6c52a",
   "metadata": {},
   "outputs": [],
   "source": []
  }
 ],
 "metadata": {
  "kernelspec": {
   "display_name": "Python 3 (ipykernel)",
   "language": "python",
   "name": "python3"
  },
  "language_info": {
   "codemirror_mode": {
    "name": "ipython",
    "version": 3
   },
   "file_extension": ".py",
   "mimetype": "text/x-python",
   "name": "python",
   "nbconvert_exporter": "python",
   "pygments_lexer": "ipython3",
   "version": "3.9.6"
  }
 },
 "nbformat": 4,
 "nbformat_minor": 5
}
