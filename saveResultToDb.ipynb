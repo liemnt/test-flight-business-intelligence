{
 "cells": [
  {
   "cell_type": "code",
   "execution_count": 13,
   "id": "bccd0098",
   "metadata": {},
   "outputs": [],
   "source": [
    "import pandas as pd\n",
    "from psycopg2 import connect\n",
    "from sqlalchemy import create_engine\n",
    "\n",
    "# class Configuration:\n",
    "#     PG_HOST = 'business-intelligent-db.cw1neqwhyrda.eu-central-1.rds.amazonaws.com'\n",
    "#     PG_USER = 'postgres'\n",
    "#     PG_PWD = '52eXzbKbqmY2x45f'\n",
    "\n",
    "PROCESSING_FILE_NAME = '1988.csv'\n",
    "DB_NAME = 'airline'\n",
    "TABLE_NAME = 'flight'\n",
    "\n",
    "class Configuration:\n",
    "    PG_HOST = 'localhost'\n",
    "    PG_USER = 'postgres'\n",
    "    PG_PWD = 'gherukdnbi6lrn4ieljb549ew9j4v98le5j9v48vl5ee'\n",
    "    \n",
    "engine = create_engine(f\"postgresql://{Configuration.PG_USER}:{Configuration.PG_PWD}@{Configuration.PG_HOST}:5432/{DB_NAME}\")\n",
    "conn = engine.connect()\n",
    "psy_conn = connect(host=Configuration.PG_HOST,\n",
    "                   user=Configuration.PG_USER,\n",
    "                   password=Configuration.PG_PWD,\n",
    "                   database=\"airline\",\n",
    "                   port=5432)\n"
   ]
  },
  {
   "cell_type": "code",
   "execution_count": 7,
   "id": "f5b6ac55",
   "metadata": {},
   "outputs": [],
   "source": [
    "import os\n",
    "import psycopg2\n",
    "\n",
    "def copy_from_file(conn, table):\n",
    "    # save the dataframe on disk as a csv file, load\n",
    "    # the csv file and use copy_from() to copy it to the table\n",
    "    tmp_df = f\"./result/{PROCESSING_FILE_NAME}\"\n",
    "    # df.to_csv(tmp_df, header=True, index=False)\n",
    "    f = open(tmp_df, 'r')\n",
    "    cursor = conn.cursor()\n",
    "    try:\n",
    "        cursor.copy_from(f, table, sep=',')\n",
    "        conn.commit()\n",
    "    except (Exception, psycopg2.DatabaseError) as error:\n",
    "        # os.remove(tmp_df)\n",
    "        print(\"Error: %s\" %error)\n",
    "        conn.rollback()\n",
    "        conn.close()\n",
    "        return 1\n",
    "    print(\"copy_from_file() done\")\n",
    "    cursor.close()\n",
    "    # os.remove(tmp_df)"
   ]
  },
  {
   "cell_type": "code",
   "execution_count": 8,
   "id": "abb103e9",
   "metadata": {},
   "outputs": [
    {
     "name": "stdout",
     "output_type": "stream",
     "text": [
      "Error: invalid input syntax for type integer: \"year\"\n",
      "CONTEXT:  COPY flight, line 1, column year: \"year\"\n",
      "\n"
     ]
    },
    {
     "data": {
      "text/plain": [
       "1"
      ]
     },
     "execution_count": 8,
     "metadata": {},
     "output_type": "execute_result"
    }
   ],
   "source": [
    "# connect to our postgres DB\n",
    "conn = connect(host=Configuration.PG_HOST,\n",
    "                user=Configuration.PG_USER,\n",
    "                password=Configuration.PG_PWD,\n",
    "                database=\"airline\",\n",
    "                port=5432)\n",
    "copy_from_file(conn, 'flight')"
   ]
  },
  {
   "cell_type": "markdown",
   "id": "886cb54d",
   "metadata": {},
   "source": [
    "## Load data from csv"
   ]
  },
  {
   "cell_type": "code",
   "execution_count": 10,
   "id": "04e34734",
   "metadata": {},
   "outputs": [
    {
     "data": {
      "text/plain": [
       "<bound method NDFrame.head of          year  month  day_of_month  day_of_week             dep_time  \\\n",
       "0        1988      1             9            6  1988-01-09 13:48:00   \n",
       "1        1988      1            10            7  1988-01-10 13:34:00   \n",
       "2        1988      1            11            1  1988-01-11 14:46:00   \n",
       "3        1988      1            12            2  1988-01-12 13:34:00   \n",
       "4        1988      1            13            3  1988-01-13 13:41:00   \n",
       "...       ...    ...           ...          ...                  ...   \n",
       "5046842  1988     12            12            1  1988-12-12 13:25:00   \n",
       "5046843  1988     12            13            2  1988-12-13 13:25:00   \n",
       "5046844  1988     12            14            3  1988-12-14 13:25:00   \n",
       "5046845  1988     12             1            4  1988-12-01 20:27:00   \n",
       "5046846  1988     12             2            5  1988-12-02 21:06:00   \n",
       "\n",
       "                crs_dep_time             arr_time         crs_arr_time  \\\n",
       "0        1988-01-09 13:31:00  1988-01-09 14:58:00  1988-01-09 14:35:00   \n",
       "1        1988-01-10 13:31:00  1988-01-10 14:43:00  1988-01-10 14:35:00   \n",
       "2        1988-01-11 13:31:00  1988-01-11 15:53:00  1988-01-11 14:35:00   \n",
       "3        1988-01-12 13:31:00  1988-01-12 14:38:00  1988-01-12 14:35:00   \n",
       "4        1988-01-13 13:31:00  1988-01-13 15:03:00  1988-01-13 14:35:00   \n",
       "...                      ...                  ...                  ...   \n",
       "5046842  1988-12-12 13:25:00  1988-12-12 20:43:00  1988-12-12 20:34:00   \n",
       "5046843  1988-12-13 13:25:00  1988-12-13 20:38:00  1988-12-13 20:34:00   \n",
       "5046844  1988-12-14 13:25:00  1988-12-14 20:45:00  1988-12-14 20:34:00   \n",
       "5046845  1988-12-01 20:27:00  1988-12-01 21:52:00  1988-12-01 21:45:00   \n",
       "5046846  1988-12-02 20:27:00  1988-12-02 22:29:00  1988-12-02 21:45:00   \n",
       "\n",
       "        unique_carrier  flight_num  actual_elapsed_time  crs_elapsed_time  \\\n",
       "0                   PI         942                 70.0                64   \n",
       "1                   PI         942                 69.0                64   \n",
       "2                   PI         942                 67.0                64   \n",
       "3                   PI         942                 64.0                64   \n",
       "4                   PI         942                 82.0                64   \n",
       "...                ...         ...                  ...               ...   \n",
       "5046842             DL         162                318.0               309   \n",
       "5046843             DL         162                313.0               309   \n",
       "5046844             DL         162                320.0               309   \n",
       "5046845             DL         163                 85.0                78   \n",
       "5046846             DL         163                 83.0                78   \n",
       "\n",
       "         arr_delay  dep_delay origin dest  distance  cancelled  diverted  \n",
       "0             23.0       17.0    SYR  BWI     273.0          0         0  \n",
       "1              8.0        3.0    SYR  BWI     273.0          0         0  \n",
       "2             78.0       75.0    SYR  BWI     273.0          0         0  \n",
       "3              3.0        3.0    SYR  BWI     273.0          0         0  \n",
       "4             28.0       10.0    SYR  BWI     273.0          0         0  \n",
       "...            ...        ...    ...  ...       ...        ...       ...  \n",
       "5046842        9.0        0.0    HNL  LAX    2556.0          0         0  \n",
       "5046843        4.0        0.0    HNL  LAX    2556.0          0         0  \n",
       "5046844       11.0        0.0    HNL  LAX    2556.0          0         0  \n",
       "5046845        7.0        0.0    ATL  MCO     403.0          0         0  \n",
       "5046846       44.0       39.0    ATL  MCO     403.0          0         0  \n",
       "\n",
       "[5046847 rows x 19 columns]>"
      ]
     },
     "execution_count": 10,
     "metadata": {},
     "output_type": "execute_result"
    }
   ],
   "source": [
    "processed_flight_df = f\"./result/{PROCESSING_FILE_NAME}\"\n",
    "flight_df = pd.read_csv(processed_flight_df)\n",
    "flight_df.dtypes"
   ]
  },
  {
   "cell_type": "code",
   "execution_count": 15,
   "id": "75878870",
   "metadata": {},
   "outputs": [
    {
     "name": "stdout",
     "output_type": "stream",
     "text": [
      "(5046847,)\n"
     ]
    }
   ],
   "source": [
    "# Save df to db\n",
    "flight_df.to_sql(TABLE_NAME, engine, if_exists='replace', index=False)\n",
    "\n",
    "psy_conn.autocommit = True\n",
    "cursor = psy_conn.cursor()\n",
    "  \n",
    "sql1 = 'SELECT count(*) from flight;'\n",
    "cursor.execute(sql1)\n",
    "for i in cursor.fetchall():\n",
    "    print(i)\n",
    "\n",
    "# conn.commit()\n",
    "conn.close()"
   ]
  },
  {
   "cell_type": "code",
   "execution_count": null,
   "id": "dfa58244",
   "metadata": {},
   "outputs": [],
   "source": []
  }
 ],
 "metadata": {
  "kernelspec": {
   "display_name": "Python 3 (ipykernel)",
   "language": "python",
   "name": "python3"
  },
  "language_info": {
   "codemirror_mode": {
    "name": "ipython",
    "version": 3
   },
   "file_extension": ".py",
   "mimetype": "text/x-python",
   "name": "python",
   "nbconvert_exporter": "python",
   "pygments_lexer": "ipython3",
   "version": "3.9.6"
  }
 },
 "nbformat": 4,
 "nbformat_minor": 5
}
