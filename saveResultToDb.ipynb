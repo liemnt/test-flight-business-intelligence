{
 "cells": [
  {
   "cell_type": "code",
   "execution_count": 29,
   "id": "7f2cf58c",
   "metadata": {},
   "outputs": [],
   "source": [
    "import pandas as pd\n",
    "from psycopg2 import connect\n",
    "from sqlalchemy import create_engine\n",
    "\n",
    "# class Configuration:\n",
    "#     PG_HOST = 'business-intelligent-db.cw1neqwhyrda.eu-central-1.rds.amazonaws.com'\n",
    "#     PG_USER = 'postgres'\n",
    "#     PG_PWD = '52eXzbKbqmY2x45f'\n",
    "\n",
    "PROCESSING_FILE_NAME = '1989.csv'\n",
    "DB_NAME = 'airline'\n",
    "TABLE_NAME = 'flight'\n",
    "\n",
    "class Configuration:\n",
    "    PG_HOST = 'localhost'\n",
    "    PG_USER = 'postgres'\n",
    "    PG_PWD = 'gherukdnbi6lrn4ieljb549ew9j4v98le5j9v48vl5ee'\n",
    "    \n",
    "engine = create_engine(f\"postgresql://{Configuration.PG_USER}:{Configuration.PG_PWD}@{Configuration.PG_HOST}:5432/{DB_NAME}\")\n",
    "conn = engine.connect()\n",
    "psy_conn = connect(host=Configuration.PG_HOST,\n",
    "                   user=Configuration.PG_USER,\n",
    "                   password=Configuration.PG_PWD,\n",
    "                   database=\"airline\",\n",
    "                   port=5432)\n"
   ]
  },
  {
   "cell_type": "code",
   "execution_count": 20,
   "id": "13355f18",
   "metadata": {},
   "outputs": [],
   "source": [
    "import os\n",
    "import psycopg2\n",
    "# Not correct way to copy to pg db table\n",
    "def copy_from_file(conn, table):\n",
    "    # save the dataframe on disk as a csv file, load\n",
    "    # the csv file and use copy_from() to copy it to the table\n",
    "    tmp_df = f\"./result/{PROCESSING_FILE_NAME}\"\n",
    "    # df.to_csv(tmp_df, header=True, index=False)\n",
    "    f = open(tmp_df, 'r')\n",
    "    cursor = conn.cursor()\n",
    "    try:\n",
    "        cursor.copy_from(f, table, sep=',')\n",
    "        conn.commit()\n",
    "    except (Exception, psycopg2.DatabaseError) as error:\n",
    "        # os.remove(tmp_df)\n",
    "        print(\"Error: %s\" %error)\n",
    "        conn.rollback()\n",
    "        conn.close()\n",
    "        return 1\n",
    "    print(\"copy_from_file() done\")\n",
    "    cursor.close()\n",
    "    # os.remove(tmp_df)"
   ]
  },
  {
   "cell_type": "code",
   "execution_count": 8,
   "id": "6257a34d",
   "metadata": {},
   "outputs": [
    {
     "name": "stdout",
     "output_type": "stream",
     "text": [
      "Error: invalid input syntax for type integer: \"year\"\n",
      "CONTEXT:  COPY flight, line 1, column year: \"year\"\n",
      "\n"
     ]
    },
    {
     "data": {
      "text/plain": [
       "1"
      ]
     },
     "execution_count": 8,
     "metadata": {},
     "output_type": "execute_result"
    }
   ],
   "source": [
    "# connect to our postgres DB\n",
    "conn = connect(host=Configuration.PG_HOST,\n",
    "                user=Configuration.PG_USER,\n",
    "                password=Configuration.PG_PWD,\n",
    "                database=\"airline\",\n",
    "                port=5432)\n",
    "copy_from_file(conn, 'flight')"
   ]
  },
  {
   "cell_type": "markdown",
   "id": "19724cd4",
   "metadata": {},
   "source": [
    "## Load data from csv (corrected way)"
   ]
  },
  {
   "cell_type": "code",
   "execution_count": 30,
   "id": "6b0b9e0d",
   "metadata": {},
   "outputs": [
    {
     "data": {
      "text/plain": [
       "year                     int64\n",
       "month                    int64\n",
       "day_of_month             int64\n",
       "day_of_week              int64\n",
       "dep_time                object\n",
       "crs_dep_time            object\n",
       "arr_time                object\n",
       "crs_arr_time            object\n",
       "unique_carrier          object\n",
       "flight_num               int64\n",
       "actual_elapsed_time    float64\n",
       "crs_elapsed_time         int64\n",
       "arr_delay              float64\n",
       "dep_delay              float64\n",
       "origin                  object\n",
       "dest                    object\n",
       "distance               float64\n",
       "cancelled                int64\n",
       "diverted                 int64\n",
       "dtype: object"
      ]
     },
     "execution_count": 30,
     "metadata": {},
     "output_type": "execute_result"
    }
   ],
   "source": [
    "processed_flight_df = f\"./result/{PROCESSING_FILE_NAME}\"\n",
    "flight_df = pd.read_csv(processed_flight_df)\n",
    "flight_df.dtypes"
   ]
  },
  {
   "cell_type": "code",
   "execution_count": 31,
   "id": "98229fef",
   "metadata": {},
   "outputs": [],
   "source": [
    "def convert_df_to_db_data_type(df):\n",
    "    df['cancelled'] = df['cancelled'].astype(bool)\n",
    "    df['diverted'] = df['diverted'].astype(bool)"
   ]
  },
  {
   "cell_type": "code",
   "execution_count": 33,
   "id": "d75707aa",
   "metadata": {},
   "outputs": [
    {
     "data": {
      "text/plain": [
       "year                     int64\n",
       "month                    int64\n",
       "day_of_month             int64\n",
       "day_of_week              int64\n",
       "dep_time                object\n",
       "crs_dep_time            object\n",
       "arr_time                object\n",
       "crs_arr_time            object\n",
       "unique_carrier          object\n",
       "flight_num               int64\n",
       "actual_elapsed_time    float64\n",
       "crs_elapsed_time         int64\n",
       "arr_delay              float64\n",
       "dep_delay              float64\n",
       "origin                  object\n",
       "dest                    object\n",
       "distance               float64\n",
       "cancelled                 bool\n",
       "diverted                  bool\n",
       "dtype: object"
      ]
     },
     "execution_count": 33,
     "metadata": {},
     "output_type": "execute_result"
    }
   ],
   "source": [
    "# convert pandas df to db record data type\n",
    "convert_df_to_db_data_type(flight_df)\n",
    "flight_df.dtypes"
   ]
  },
  {
   "cell_type": "code",
   "execution_count": 34,
   "id": "06291bac",
   "metadata": {},
   "outputs": [
    {
     "name": "stdout",
     "output_type": "stream",
     "text": [
      "(9890576,)\n"
     ]
    }
   ],
   "source": [
    "# Save df to db\n",
    "flight_df.to_sql(TABLE_NAME, engine, if_exists='append', index=False)\n",
    "\n",
    "psy_conn.autocommit = True\n",
    "cursor = psy_conn.cursor()\n",
    "  \n",
    "sql1 = 'SELECT count(*) from flight;'\n",
    "cursor.execute(sql1)\n",
    "for i in cursor.fetchall():\n",
    "    print(i)\n",
    "\n",
    "# conn.commit()\n",
    "conn.close()"
   ]
  },
  {
   "cell_type": "code",
   "execution_count": null,
   "id": "193a1f4f",
   "metadata": {},
   "outputs": [],
   "source": []
  }
 ],
 "metadata": {
  "kernelspec": {
   "display_name": "Python 3 (ipykernel)",
   "language": "python",
   "name": "python3"
  },
  "language_info": {
   "codemirror_mode": {
    "name": "ipython",
    "version": 3
   },
   "file_extension": ".py",
   "mimetype": "text/x-python",
   "name": "python",
   "nbconvert_exporter": "python",
   "pygments_lexer": "ipython3",
   "version": "3.9.6"
  }
 },
 "nbformat": 4,
 "nbformat_minor": 5
}
